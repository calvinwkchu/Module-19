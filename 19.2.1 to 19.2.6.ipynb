{
 "cells": [
  {
   "cell_type": "code",
   "execution_count": 1,
   "metadata": {},
   "outputs": [],
   "source": [
    "# Import our dependencies\n",
    "import pandas as pd\n",
    "import matplotlib as plt\n",
    "from sklearn.datasets import make_blobs\n",
    "import sklearn as skl\n",
    "import tensorflow as tf"
   ]
  },
  {
   "cell_type": "code",
   "execution_count": 2,
   "metadata": {},
   "outputs": [
    {
     "data": {
      "text/plain": [
       "<AxesSubplot:xlabel='Feature 1', ylabel='Feature 2'>"
      ]
     },
     "execution_count": 2,
     "metadata": {},
     "output_type": "execute_result"
    },
    {
     "data": {
      "image/png": "[encoded data removed]",
      "text/plain": [
       "<Figure size 432x288 with 2 Axes>"
      ]
     },
     "metadata": {
      "needs_background": "light"
     },
     "output_type": "display_data"
    }
   ],
   "source": [
    "# Generate dummy dataset\n",
    "X, y = make_blobs(n_samples=1000, centers=2, n_features=2, random_state=78)\n",
    "\n",
    "# Creating a DataFrame with the dummy data\n",
    "df = pd.DataFrame(X, columns=[\"Feature 1\", \"Feature 2\"])\n",
    "df[\"Target\"] = y\n",
    "\n",
    "# Plotting the dummy data\n",
    "df.plot.scatter(x=\"Feature 1\", y=\"Feature 2\", c=\"Target\", colormap=\"winter\")"
   ]
  },
  {
   "cell_type": "code",
   "execution_count": 3,
   "metadata": {},
   "outputs": [],
   "source": [
    "# Use sklearn to split dataset\n",
    "from sklearn.model_selection import train_test_split\n",
    "X_train, X_test, y_train, y_test = train_test_split(X, y, random_state=78)"
   ]
  },
  {
   "cell_type": "code",
   "execution_count": 4,
   "metadata": {},
   "outputs": [],
   "source": [
    "# Create scaler instance\n",
    "X_scaler = skl.preprocessing.StandardScaler()\n",
    "\n",
    "# Fit the scaler\n",
    "X_scaler.fit(X_train)\n",
    "\n",
    "# Scale the data\n",
    "X_train_scaled = X_scaler.transform(X_train)\n",
    "X_test_scaled = X_scaler.transform(X_test)"
   ]
  },
  {
   "cell_type": "code",
   "execution_count": 5,
   "metadata": {},
   "outputs": [],
   "source": [
    "# Create the Keras Sequential model\n",
    "nn_model = tf.keras.models.Sequential()"
   ]
  },
  {
   "cell_type": "code",
   "execution_count": 6,
   "metadata": {},
   "outputs": [],
   "source": [
    "# Add our first Dense layer, including the input layer\n",
    "nn_model.add(tf.keras.layers.Dense(units=1, activation=\"relu\", input_dim=2))"
   ]
  },
  {
   "cell_type": "code",
   "execution_count": 7,
   "metadata": {},
   "outputs": [],
   "source": [
    "# Add the output layer that uses a probability activation function\n",
    "nn_model.add(tf.keras.layers.Dense(units=1, activation=\"sigmoid\"))"
   ]
  },
  {
   "cell_type": "code",
   "execution_count": 8,
   "metadata": {},
   "outputs": [
    {
     "name": "stdout",
     "output_type": "stream",
     "text": [
      "Model: \"sequential\"\n",
      "_________________________________________________________________\n",
      "Layer (type)                 Output Shape              Param #   \n",
      "=================================================================\n",
      "dense (Dense)                (None, 1)                 3         \n",
      "_________________________________________________________________\n",
      "dense_1 (Dense)              (None, 1)                 2         \n",
      "=================================================================\n",
      "Total params: 5\n",
      "Trainable params: 5\n",
      "Non-trainable params: 0\n",
      "_________________________________________________________________\n"
     ]
    }
   ],
   "source": [
    "# Check the structure of the Sequential model\n",
    "nn_model.summary()"
   ]
  },
  {
   "cell_type": "code",
   "execution_count": 9,
   "metadata": {},
   "outputs": [],
   "source": [
    "# Compile the Sequential model together and customize metrics\n",
    "nn_model.compile(loss=\"binary_crossentropy\", optimizer=\"adam\", metrics=[\"accuracy\"])"
   ]
  },
  {
   "cell_type": "code",
   "execution_count": 10,
   "metadata": {},
   "outputs": [
    {
     "name": "stdout",
     "output_type": "stream",
     "text": [
      "Epoch 1/100\n",
      "24/24 [==============================] - 0s 721us/step - loss: 0.8705 - accuracy: 0.0059\n",
      "Epoch 2/100\n",
      "24/24 [==============================] - 0s 721us/step - loss: 0.8491 - accuracy: 0.0141\n",
      "Epoch 3/100\n",
      "24/24 [==============================] - 0s 721us/step - loss: 0.8298 - accuracy: 0.0177\n",
      "Epoch 4/100\n",
      "24/24 [==============================] - 0s 764us/step - loss: 0.8168 - accuracy: 0.0168\n",
      "Epoch 5/100\n",
      "24/24 [==============================] - 0s 764us/step - loss: 0.8026 - accuracy: 0.0149\n",
      "Epoch 6/100\n",
      "24/24 [==============================] - 0s 807us/step - loss: 0.7844 - accuracy: 0.0242\n",
      "Epoch 7/100\n",
      "24/24 [==============================] - 0s 806us/step - loss: 0.7774 - accuracy: 0.0383\n",
      "Epoch 8/100\n",
      "24/24 [==============================] - 0s 976us/step - loss: 0.7647 - accuracy: 0.0480\n",
      "Epoch 9/100\n",
      "24/24 [==============================] - 0s 849us/step - loss: 0.7571 - accuracy: 0.0610\n",
      "Epoch 10/100\n",
      "24/24 [==============================] - 0s 933us/step - loss: 0.7453 - accuracy: 0.1061\n",
      "Epoch 11/100\n",
      "24/24 [==============================] - 0s 849us/step - loss: 0.7402 - accuracy: 0.1348\n",
      "Epoch 12/100\n",
      "24/24 [==============================] - 0s 1ms/step - loss: 0.7318 - accuracy: 0.1685\n",
      "Epoch 13/100\n",
      "24/24 [==============================] - 0s 806us/step - loss: 0.7262 - accuracy: 0.1873\n",
      "Epoch 14/100\n",
      "24/24 [==============================] - 0s 763us/step - loss: 0.7213 - accuracy: 0.2406\n",
      "Epoch 15/100\n",
      "24/24 [==============================] - 0s 806us/step - loss: 0.7163 - accuracy: 0.2714\n",
      "Epoch 16/100\n",
      "24/24 [==============================] - 0s 764us/step - loss: 0.7126 - accuracy: 0.3082\n",
      "Epoch 17/100\n",
      "24/24 [==============================] - 0s 806us/step - loss: 0.7085 - accuracy: 0.3508\n",
      "Epoch 18/100\n",
      "24/24 [==============================] - 0s 806us/step - loss: 0.7045 - accuracy: 0.3976\n",
      "Epoch 19/100\n",
      "24/24 [==============================] - 0s 764us/step - loss: 0.7013 - accuracy: 0.4338\n",
      "Epoch 20/100\n",
      "24/24 [==============================] - 0s 721us/step - loss: 0.7006 - accuracy: 0.4471\n",
      "Epoch 21/100\n",
      "24/24 [==============================] - 0s 764us/step - loss: 0.6994 - accuracy: 0.4486\n",
      "Epoch 22/100\n",
      "24/24 [==============================] - 0s 849us/step - loss: 0.6977 - accuracy: 0.4776\n",
      "Epoch 23/100\n",
      "24/24 [==============================] - 0s 764us/step - loss: 0.6961 - accuracy: 0.4947\n",
      "Epoch 24/100\n",
      "24/24 [==============================] - 0s 764us/step - loss: 0.6946 - accuracy: 0.5090\n",
      "Epoch 25/100\n",
      "24/24 [==============================] - 0s 806us/step - loss: 0.6937 - accuracy: 0.5141\n",
      "Epoch 26/100\n",
      "24/24 [==============================] - 0s 891us/step - loss: 0.6960 - accuracy: 0.4796\n",
      "Epoch 27/100\n",
      "24/24 [==============================] - 0s 806us/step - loss: 0.6922 - accuracy: 0.5329\n",
      "Epoch 28/100\n",
      "24/24 [==============================] - 0s 721us/step - loss: 0.6943 - accuracy: 0.4966\n",
      "Epoch 29/100\n",
      "24/24 [==============================] - 0s 806us/step - loss: 0.6921 - accuracy: 0.5283\n",
      "Epoch 30/100\n",
      "24/24 [==============================] - 0s 806us/step - loss: 0.6936 - accuracy: 0.5031\n",
      "Epoch 31/100\n",
      "24/24 [==============================] - 0s 976us/step - loss: 0.6923 - accuracy: 0.5234\n",
      "Epoch 32/100\n",
      "24/24 [==============================] - 0s 1ms/step - loss: 0.6929 - accuracy: 0.5139\n",
      "Epoch 33/100\n",
      "24/24 [==============================] - 0s 806us/step - loss: 0.6937 - accuracy: 0.4975\n",
      "Epoch 34/100\n",
      "24/24 [==============================] - 0s 1ms/step - loss: 0.6947 - accuracy: 0.4796\n",
      "Epoch 35/100\n",
      "24/24 [==============================] - 0s 849us/step - loss: 0.6933 - accuracy: 0.5050\n",
      "Epoch 36/100\n",
      "24/24 [==============================] - 0s 976us/step - loss: 0.6935 - accuracy: 0.5012\n",
      "Epoch 37/100\n",
      "24/24 [==============================] - 0s 849us/step - loss: 0.6924 - accuracy: 0.5227\n",
      "Epoch 38/100\n",
      "24/24 [==============================] - 0s 721us/step - loss: 0.6926 - accuracy: 0.5181\n",
      "Epoch 39/100\n",
      "24/24 [==============================] - 0s 806us/step - loss: 0.6935 - accuracy: 0.4975\n",
      "Epoch 40/100\n",
      "24/24 [==============================] - 0s 891us/step - loss: 0.6924 - accuracy: 0.5225\n",
      "Epoch 41/100\n",
      "24/24 [==============================] - 0s 764us/step - loss: 0.6932 - accuracy: 0.5039\n",
      "Epoch 42/100\n",
      "24/24 [==============================] - 0s 764us/step - loss: 0.6928 - accuracy: 0.5144\n",
      "Epoch 43/100\n",
      "24/24 [==============================] - 0s 679us/step - loss: 0.6923 - accuracy: 0.5272\n",
      "Epoch 44/100\n",
      "24/24 [==============================] - 0s 848us/step - loss: 0.6937 - accuracy: 0.4912\n",
      "Epoch 45/100\n",
      "24/24 [==============================] - 0s 764us/step - loss: 0.6940 - accuracy: 0.4820\n",
      "Epoch 46/100\n",
      "24/24 [==============================] - 0s 721us/step - loss: 0.6928 - accuracy: 0.5170\n",
      "Epoch 47/100\n",
      "24/24 [==============================] - 0s 679us/step - loss: 0.6929 - accuracy: 0.5108\n",
      "Epoch 48/100\n",
      "24/24 [==============================] - 0s 806us/step - loss: 0.6929 - accuracy: 0.5102\n",
      "Epoch 49/100\n",
      "24/24 [==============================] - 0s 764us/step - loss: 0.6934 - accuracy: 0.4972\n",
      "Epoch 50/100\n",
      "24/24 [==============================] - 0s 721us/step - loss: 0.6930 - accuracy: 0.5077\n",
      "Epoch 51/100\n",
      "24/24 [==============================] - 0s 764us/step - loss: 0.6931 - accuracy: 0.5059\n",
      "Epoch 52/100\n",
      "24/24 [==============================] - 0s 764us/step - loss: 0.6928 - accuracy: 0.5143\n",
      "Epoch 53/100\n",
      "24/24 [==============================] - 0s 721us/step - loss: 0.6924 - accuracy: 0.5248\n",
      "Epoch 54/100\n",
      "24/24 [==============================] - 0s 933us/step - loss: 0.6943 - accuracy: 0.4719\n",
      "Epoch 55/100\n",
      "24/24 [==============================] - 0s 806us/step - loss: 0.6934 - accuracy: 0.4947\n",
      "Epoch 56/100\n",
      "24/24 [==============================] - 0s 849us/step - loss: 0.6938 - accuracy: 0.4811\n",
      "Epoch 57/100\n",
      "24/24 [==============================] - 0s 804us/step - loss: 0.6936 - accuracy: 0.4898\n",
      "Epoch 58/100\n",
      "24/24 [==============================] - 0s 806us/step - loss: 0.6938 - accuracy: 0.4832\n",
      "Epoch 59/100\n",
      "24/24 [==============================] - 0s 891us/step - loss: 0.6929 - accuracy: 0.5113\n",
      "Epoch 60/100\n",
      "24/24 [==============================] - 0s 764us/step - loss: 0.6932 - accuracy: 0.5020\n",
      "Epoch 61/100\n",
      "24/24 [==============================] - 0s 679us/step - loss: 0.6930 - accuracy: 0.5085\n",
      "Epoch 62/100\n",
      "24/24 [==============================] - 0s 764us/step - loss: 0.6935 - accuracy: 0.4924\n",
      "Epoch 63/100\n",
      "24/24 [==============================] - 0s 806us/step - loss: 0.6935 - accuracy: 0.4911\n",
      "Epoch 64/100\n",
      "24/24 [==============================] - 0s 765us/step - loss: 0.6933 - accuracy: 0.4971\n",
      "Epoch 65/100\n",
      "24/24 [==============================] - 0s 806us/step - loss: 0.6933 - accuracy: 0.4986\n",
      "Epoch 66/100\n",
      "24/24 [==============================] - 0s 721us/step - loss: 0.6929 - accuracy: 0.5116\n",
      "Epoch 67/100\n",
      "24/24 [==============================] - 0s 849us/step - loss: 0.6920 - accuracy: 0.5426\n",
      "Epoch 68/100\n",
      "24/24 [==============================] - 0s 849us/step - loss: 0.6931 - accuracy: 0.5060\n",
      "Epoch 69/100\n",
      "24/24 [==============================] - 0s 849us/step - loss: 0.6931 - accuracy: 0.5073\n",
      "Epoch 70/100\n",
      "24/24 [==============================] - 0s 976us/step - loss: 0.6931 - accuracy: 0.5051\n",
      "Epoch 71/100\n",
      "24/24 [==============================] - 0s 849us/step - loss: 0.6939 - accuracy: 0.4749\n",
      "Epoch 72/100\n",
      "24/24 [==============================] - 0s 1ms/step - loss: 0.6938 - accuracy: 0.4782\n",
      "Epoch 73/100\n",
      "24/24 [==============================] - 0s 806us/step - loss: 0.6934 - accuracy: 0.4965\n",
      "Epoch 74/100\n",
      "24/24 [==============================] - 0s 721us/step - loss: 0.6937 - accuracy: 0.4860\n",
      "Epoch 75/100\n",
      "24/24 [==============================] - 0s 743us/step - loss: 0.6945 - accuracy: 0.4568\n",
      "Epoch 76/100\n",
      "24/24 [==============================] - 0s 891us/step - loss: 0.6938 - accuracy: 0.4824\n",
      "Epoch 77/100\n",
      "24/24 [==============================] - 0s 806us/step - loss: 0.6926 - accuracy: 0.5212\n",
      "Epoch 78/100\n",
      "24/24 [==============================] - 0s 806us/step - loss: 0.6923 - accuracy: 0.5306\n",
      "Epoch 79/100\n",
      "24/24 [==============================] - 0s 891us/step - loss: 0.6933 - accuracy: 0.4990\n",
      "Epoch 80/100\n",
      "24/24 [==============================] - 0s 743us/step - loss: 0.6933 - accuracy: 0.5011\n",
      "Epoch 81/100\n"
     ]
    },
    {
     "name": "stdout",
     "output_type": "stream",
     "text": [
      "24/24 [==============================] - 0s 806us/step - loss: 0.6935 - accuracy: 0.4928\n",
      "Epoch 82/100\n",
      "24/24 [==============================] - 0s 721us/step - loss: 0.6933 - accuracy: 0.5000\n",
      "Epoch 83/100\n",
      "24/24 [==============================] - 0s 679us/step - loss: 0.6932 - accuracy: 0.5032\n",
      "Epoch 84/100\n",
      "24/24 [==============================] - 0s 786us/step - loss: 0.6928 - accuracy: 0.5159\n",
      "Epoch 85/100\n",
      "24/24 [==============================] - 0s 763us/step - loss: 0.6929 - accuracy: 0.5119\n",
      "Epoch 86/100\n",
      "24/24 [==============================] - 0s 721us/step - loss: 0.6927 - accuracy: 0.5201\n",
      "Epoch 87/100\n",
      "24/24 [==============================] - 0s 721us/step - loss: 0.6923 - accuracy: 0.5316\n",
      "Epoch 88/100\n",
      "24/24 [==============================] - 0s 764us/step - loss: 0.6931 - accuracy: 0.5080\n",
      "Epoch 89/100\n",
      "24/24 [==============================] - 0s 871us/step - loss: 0.6929 - accuracy: 0.5117\n",
      "Epoch 90/100\n",
      "24/24 [==============================] - 0s 679us/step - loss: 0.6925 - accuracy: 0.5281\n",
      "Epoch 91/100\n",
      "24/24 [==============================] - 0s 721us/step - loss: 0.6926 - accuracy: 0.5234\n",
      "Epoch 92/100\n",
      "24/24 [==============================] - 0s 721us/step - loss: 0.6930 - accuracy: 0.5084\n",
      "Epoch 93/100\n",
      "24/24 [==============================] - 0s 721us/step - loss: 0.6927 - accuracy: 0.5216\n",
      "Epoch 94/100\n",
      "24/24 [==============================] - 0s 764us/step - loss: 0.6928 - accuracy: 0.5165\n",
      "Epoch 95/100\n",
      "24/24 [==============================] - 0s 721us/step - loss: 0.6926 - accuracy: 0.5249\n",
      "Epoch 96/100\n",
      "24/24 [==============================] - 0s 679us/step - loss: 0.6931 - accuracy: 0.5044\n",
      "Epoch 97/100\n",
      "24/24 [==============================] - 0s 721us/step - loss: 0.6931 - accuracy: 0.5065\n",
      "Epoch 98/100\n",
      "24/24 [==============================] - 0s 719us/step - loss: 0.6932 - accuracy: 0.5002\n",
      "Epoch 99/100\n",
      "24/24 [==============================] - 0s 764us/step - loss: 0.6932 - accuracy: 0.5008\n",
      "Epoch 100/100\n",
      "24/24 [==============================] - 0s 721us/step - loss: 0.6928 - accuracy: 0.5157\n"
     ]
    }
   ],
   "source": [
    "# Fit the model to the training data\n",
    "fit_model = nn_model.fit(X_train_scaled, y_train, epochs=100)"
   ]
  },
  {
   "cell_type": "code",
   "execution_count": 11,
   "metadata": {},
   "outputs": [
    {
     "data": {
      "text/plain": [
       "<AxesSubplot:>"
      ]
     },
     "execution_count": 11,
     "metadata": {},
     "output_type": "execute_result"
    },
    {
     "data": {
      "image/png": "[encoded data removed]",
      "text/plain": [
       "<Figure size 432x288 with 1 Axes>"
      ]
     },
     "metadata": {
      "needs_background": "light"
     },
     "output_type": "display_data"
    }
   ],
   "source": [
    "# Create a DataFrame containing training history\n",
    "history_df = pd.DataFrame(fit_model.history, index=range(1,len(fit_model.history[\"loss\"])+1))\n",
    "\n",
    "# Plot the loss\n",
    "history_df.plot(y=\"loss\")"
   ]
  },
  {
   "cell_type": "code",
   "execution_count": 12,
   "metadata": {},
   "outputs": [
    {
     "data": {
      "text/plain": [
       "<AxesSubplot:>"
      ]
     },
     "execution_count": 12,
     "metadata": {},
     "output_type": "execute_result"
    },
    {
     "data": {
      "image/png": "[encoded data removed]",
      "text/plain": [
       "<Figure size 432x288 with 1 Axes>"
      ]
     },
     "metadata": {
      "needs_background": "light"
     },
     "output_type": "display_data"
    }
   ],
   "source": [
    "# Plot the accuracy\n",
    "history_df.plot(y=\"accuracy\")"
   ]
  },
  {
   "cell_type": "code",
   "execution_count": 13,
   "metadata": {},
   "outputs": [
    {
     "name": "stdout",
     "output_type": "stream",
     "text": [
      "8/8 - 0s - loss: 0.6938 - accuracy: 0.4800\n",
      "Loss: 0.6937804222106934, Accuracy: 0.47999998927116394\n"
     ]
    }
   ],
   "source": [
    "# Evaluate the model using the test data\n",
    "model_loss, model_accuracy = nn_model.evaluate(X_test_scaled,y_test,verbose=2)\n",
    "print(f\"Loss: {model_loss}, Accuracy: {model_accuracy}\")"
   ]
  },
  {
   "cell_type": "code",
   "execution_count": 14,
   "metadata": {},
   "outputs": [
    {
     "data": {
      "text/plain": [
       "array([[0],\n",
       "       [0],\n",
       "       [0],\n",
       "       [0],\n",
       "       [0],\n",
       "       [0],\n",
       "       [0],\n",
       "       [0],\n",
       "       [0],\n",
       "       [0]])"
      ]
     },
     "execution_count": 14,
     "metadata": {},
     "output_type": "execute_result"
    }
   ],
   "source": [
    "# Predict the classification of a new set of blob data\n",
    "new_X, new_Y = make_blobs(n_samples=10, centers=2, n_features=2, random_state=78)\n",
    "new_X_scaled = X_scaler.transform(new_X)\n",
    "(nn_model.predict(new_X_scaled) > 0.5).astype(\"int32\")"
   ]
  },
  {
   "cell_type": "code",
   "execution_count": 15,
   "metadata": {},
   "outputs": [
    {
     "data": {
      "text/plain": [
       "<AxesSubplot:xlabel='Feature 1', ylabel='Feature 2'>"
      ]
     },
     "execution_count": 15,
     "metadata": {},
     "output_type": "execute_result"
    },
    {
     "data": {
      "image/png": "[encoded data removed]",
      "text/plain": [
       "<Figure size 432x288 with 2 Axes>"
      ]
     },
     "metadata": {
      "needs_background": "light"
     },
     "output_type": "display_data"
    }
   ],
   "source": [
    "from sklearn.datasets import make_moons\n",
    "\n",
    "# Creating dummy nonlinear data\n",
    "X_moons, y_moons = make_moons(n_samples=1000, noise=0.08, random_state=78)\n",
    "\n",
    "# Transforming y_moons to a vertical vector\n",
    "y_moons = y_moons.reshape(-1, 1)\n",
    "\n",
    "# Creating a DataFrame to plot the nonlinear dummy data\n",
    "df_moons = pd.DataFrame(X_moons, columns=[\"Feature 1\", \"Feature 2\"])\n",
    "df_moons[\"Target\"] = y_moons\n",
    "\n",
    "# Plot the nonlinear dummy data\n",
    "df_moons.plot.scatter(x=\"Feature 1\",y=\"Feature 2\", c=\"Target\",colormap=\"winter\")"
   ]
  },
  {
   "cell_type": "code",
   "execution_count": 20,
   "metadata": {},
   "outputs": [],
   "source": [
    "# Create training and testing sets\n",
    "X_moon_train, X_moon_test, y_moon_train, y_moon_test = train_test_split(\n",
    "    X_moons, y_moons, random_state=78\n",
    ")\n",
    "\n",
    "# Create the scaler instance\n",
    "X_moon_scaler = skl.preprocessing.StandardScaler()\n",
    "\n",
    "# Fit the scaler\n",
    "X_moon_scaler.fit(X_moon_train)\n",
    "\n",
    "# Scale the data\n",
    "X_moon_train_scaled = X_moon_scaler.transform(X_moon_train)\n",
    "X_moon_test_scaled = X_moon_scaler.transform(X_moon_test)"
   ]
  },
  {
   "cell_type": "code",
   "execution_count": 21,
   "metadata": {},
   "outputs": [
    {
     "name": "stdout",
     "output_type": "stream",
     "text": [
      "Epoch 1/100\n",
      "24/24 [==============================] - 0s 1ms/step - loss: 0.6940 - accuracy: 0.4693\n",
      "Epoch 2/100\n",
      "24/24 [==============================] - 0s 1ms/step - loss: 0.6937 - accuracy: 0.4693\n",
      "Epoch 3/100\n",
      "24/24 [==============================] - 0s 1ms/step - loss: 0.6934 - accuracy: 0.4693\n",
      "Epoch 4/100\n",
      "24/24 [==============================] - 0s 1ms/step - loss: 0.6931 - accuracy: 0.5360\n",
      "Epoch 5/100\n",
      "24/24 [==============================] - 0s 1ms/step - loss: 0.6929 - accuracy: 0.5307\n",
      "Epoch 6/100\n",
      "24/24 [==============================] - 0s 1ms/step - loss: 0.6927 - accuracy: 0.5307\n",
      "Epoch 7/100\n",
      "24/24 [==============================] - 0s 1ms/step - loss: 0.6925 - accuracy: 0.5307\n",
      "Epoch 8/100\n",
      "24/24 [==============================] - 0s 1ms/step - loss: 0.6923 - accuracy: 0.5307\n",
      "Epoch 9/100\n",
      "24/24 [==============================] - 0s 1ms/step - loss: 0.6922 - accuracy: 0.5307\n",
      "Epoch 10/100\n",
      "24/24 [==============================] - 0s 1ms/step - loss: 0.6921 - accuracy: 0.5307\n",
      "Epoch 11/100\n",
      "24/24 [==============================] - 0s 1ms/step - loss: 0.6920 - accuracy: 0.5307\n",
      "Epoch 12/100\n",
      "24/24 [==============================] - 0s 1ms/step - loss: 0.6919 - accuracy: 0.5307\n",
      "Epoch 13/100\n",
      "24/24 [==============================] - 0s 1ms/step - loss: 0.6918 - accuracy: 0.5307\n",
      "Epoch 14/100\n",
      "24/24 [==============================] - 0s 976us/step - loss: 0.6918 - accuracy: 0.5307\n",
      "Epoch 15/100\n",
      "24/24 [==============================] - 0s 1ms/step - loss: 0.6917 - accuracy: 0.5307\n",
      "Epoch 16/100\n",
      "24/24 [==============================] - 0s 1ms/step - loss: 0.6917 - accuracy: 0.5307\n",
      "Epoch 17/100\n",
      "24/24 [==============================] - 0s 976us/step - loss: 0.6916 - accuracy: 0.5307\n",
      "Epoch 18/100\n",
      "24/24 [==============================] - 0s 1ms/step - loss: 0.6916 - accuracy: 0.5307\n",
      "Epoch 19/100\n",
      "24/24 [==============================] - 0s 1ms/step - loss: 0.6915 - accuracy: 0.5307\n",
      "Epoch 20/100\n",
      "24/24 [==============================] - 0s 976us/step - loss: 0.6915 - accuracy: 0.5307\n",
      "Epoch 21/100\n",
      "24/24 [==============================] - 0s 1ms/step - loss: 0.6915 - accuracy: 0.5307\n",
      "Epoch 22/100\n",
      "24/24 [==============================] - 0s 1ms/step - loss: 0.6914 - accuracy: 0.5307\n",
      "Epoch 23/100\n",
      "24/24 [==============================] - 0s 1ms/step - loss: 0.6914 - accuracy: 0.5307\n",
      "Epoch 24/100\n",
      "24/24 [==============================] - 0s 1ms/step - loss: 0.6914 - accuracy: 0.5307\n",
      "Epoch 25/100\n",
      "24/24 [==============================] - 0s 1ms/step - loss: 0.6914 - accuracy: 0.5307\n",
      "Epoch 26/100\n",
      "24/24 [==============================] - 0s 1ms/step - loss: 0.6914 - accuracy: 0.5307\n",
      "Epoch 27/100\n",
      "24/24 [==============================] - 0s 1ms/step - loss: 0.6914 - accuracy: 0.5307\n",
      "Epoch 28/100\n",
      "24/24 [==============================] - 0s 1ms/step - loss: 0.6914 - accuracy: 0.5307\n",
      "Epoch 29/100\n",
      "24/24 [==============================] - 0s 1ms/step - loss: 0.6913 - accuracy: 0.5307\n",
      "Epoch 30/100\n",
      "24/24 [==============================] - 0s 1ms/step - loss: 0.6914 - accuracy: 0.5307\n",
      "Epoch 31/100\n",
      "24/24 [==============================] - 0s 1ms/step - loss: 0.6913 - accuracy: 0.5307\n",
      "Epoch 32/100\n",
      "24/24 [==============================] - 0s 1ms/step - loss: 0.6914 - accuracy: 0.5307\n",
      "Epoch 33/100\n",
      "24/24 [==============================] - 0s 1ms/step - loss: 0.6913 - accuracy: 0.5307\n",
      "Epoch 34/100\n",
      "24/24 [==============================] - 0s 1ms/step - loss: 0.6913 - accuracy: 0.5307\n",
      "Epoch 35/100\n",
      "24/24 [==============================] - 0s 1ms/step - loss: 0.6913 - accuracy: 0.5307\n",
      "Epoch 36/100\n",
      "24/24 [==============================] - 0s 1ms/step - loss: 0.6913 - accuracy: 0.5307\n",
      "Epoch 37/100\n",
      "24/24 [==============================] - 0s 1ms/step - loss: 0.6913 - accuracy: 0.5307\n",
      "Epoch 38/100\n",
      "24/24 [==============================] - 0s 1ms/step - loss: 0.6913 - accuracy: 0.5307\n",
      "Epoch 39/100\n",
      "24/24 [==============================] - 0s 1ms/step - loss: 0.6913 - accuracy: 0.5307\n",
      "Epoch 40/100\n",
      "24/24 [==============================] - 0s 1ms/step - loss: 0.6913 - accuracy: 0.5307\n",
      "Epoch 41/100\n",
      "24/24 [==============================] - 0s 1ms/step - loss: 0.6913 - accuracy: 0.5307\n",
      "Epoch 42/100\n",
      "24/24 [==============================] - 0s 1ms/step - loss: 0.6913 - accuracy: 0.5307\n",
      "Epoch 43/100\n",
      "24/24 [==============================] - 0s 1ms/step - loss: 0.6913 - accuracy: 0.5307\n",
      "Epoch 44/100\n",
      "24/24 [==============================] - 0s 1ms/step - loss: 0.6913 - accuracy: 0.5307\n",
      "Epoch 45/100\n",
      "24/24 [==============================] - 0s 1ms/step - loss: 0.6913 - accuracy: 0.5307\n",
      "Epoch 46/100\n",
      "24/24 [==============================] - 0s 1ms/step - loss: 0.6913 - accuracy: 0.5307\n",
      "Epoch 47/100\n",
      "24/24 [==============================] - 0s 1ms/step - loss: 0.6913 - accuracy: 0.5307\n",
      "Epoch 48/100\n",
      "24/24 [==============================] - 0s 1ms/step - loss: 0.6913 - accuracy: 0.5307\n",
      "Epoch 49/100\n",
      "24/24 [==============================] - 0s 1ms/step - loss: 0.6913 - accuracy: 0.5307\n",
      "Epoch 50/100\n",
      "24/24 [==============================] - 0s 1ms/step - loss: 0.6913 - accuracy: 0.5307\n",
      "Epoch 51/100\n",
      "24/24 [==============================] - 0s 1ms/step - loss: 0.6913 - accuracy: 0.5307\n",
      "Epoch 52/100\n",
      "24/24 [==============================] - 0s 1ms/step - loss: 0.6913 - accuracy: 0.5307\n",
      "Epoch 53/100\n",
      "24/24 [==============================] - 0s 1ms/step - loss: 0.6913 - accuracy: 0.5307\n",
      "Epoch 54/100\n",
      "24/24 [==============================] - 0s 1ms/step - loss: 0.6913 - accuracy: 0.5307\n",
      "Epoch 55/100\n",
      "24/24 [==============================] - 0s 1ms/step - loss: 0.6913 - accuracy: 0.5307\n",
      "Epoch 56/100\n",
      "24/24 [==============================] - 0s 1ms/step - loss: 0.6913 - accuracy: 0.5307\n",
      "Epoch 57/100\n",
      "24/24 [==============================] - 0s 1ms/step - loss: 0.6913 - accuracy: 0.5307\n",
      "Epoch 58/100\n",
      "24/24 [==============================] - 0s 1ms/step - loss: 0.6913 - accuracy: 0.5307\n",
      "Epoch 59/100\n",
      "24/24 [==============================] - 0s 1ms/step - loss: 0.6913 - accuracy: 0.5307\n",
      "Epoch 60/100\n",
      "24/24 [==============================] - 0s 1ms/step - loss: 0.6913 - accuracy: 0.5307\n",
      "Epoch 61/100\n",
      "24/24 [==============================] - 0s 1ms/step - loss: 0.6913 - accuracy: 0.5307\n",
      "Epoch 62/100\n",
      "24/24 [==============================] - 0s 1ms/step - loss: 0.6913 - accuracy: 0.5307\n",
      "Epoch 63/100\n",
      "24/24 [==============================] - 0s 1ms/step - loss: 0.6913 - accuracy: 0.5307\n",
      "Epoch 64/100\n",
      "24/24 [==============================] - 0s 1ms/step - loss: 0.6913 - accuracy: 0.5307\n",
      "Epoch 65/100\n",
      "24/24 [==============================] - 0s 1ms/step - loss: 0.6913 - accuracy: 0.5307\n",
      "Epoch 66/100\n",
      "24/24 [==============================] - 0s 1ms/step - loss: 0.6913 - accuracy: 0.5307\n",
      "Epoch 67/100\n",
      "24/24 [==============================] - 0s 1ms/step - loss: 0.6913 - accuracy: 0.5307\n",
      "Epoch 68/100\n",
      "24/24 [==============================] - 0s 976us/step - loss: 0.6913 - accuracy: 0.5307\n",
      "Epoch 69/100\n",
      "24/24 [==============================] - 0s 1ms/step - loss: 0.6913 - accuracy: 0.5307\n",
      "Epoch 70/100\n",
      "24/24 [==============================] - 0s 1ms/step - loss: 0.6913 - accuracy: 0.5307\n",
      "Epoch 71/100\n",
      "24/24 [==============================] - 0s 1ms/step - loss: 0.6913 - accuracy: 0.5307\n",
      "Epoch 72/100\n",
      "24/24 [==============================] - 0s 2ms/step - loss: 0.6913 - accuracy: 0.5307\n",
      "Epoch 73/100\n",
      "24/24 [==============================] - 0s 1ms/step - loss: 0.6913 - accuracy: 0.5307\n",
      "Epoch 74/100\n",
      "24/24 [==============================] - 0s 1ms/step - loss: 0.6913 - accuracy: 0.5307\n",
      "Epoch 75/100\n",
      "24/24 [==============================] - 0s 1ms/step - loss: 0.6914 - accuracy: 0.5307\n",
      "Epoch 76/100\n",
      "24/24 [==============================] - 0s 1ms/step - loss: 0.6913 - accuracy: 0.5307\n",
      "Epoch 77/100\n",
      "24/24 [==============================] - 0s 1ms/step - loss: 0.6913 - accuracy: 0.5307\n",
      "Epoch 78/100\n",
      "24/24 [==============================] - 0s 1ms/step - loss: 0.6913 - accuracy: 0.5307\n",
      "Epoch 79/100\n",
      "24/24 [==============================] - 0s 1ms/step - loss: 0.6913 - accuracy: 0.5307\n",
      "Epoch 80/100\n",
      "24/24 [==============================] - 0s 1ms/step - loss: 0.6913 - accuracy: 0.5307\n",
      "Epoch 81/100\n",
      "24/24 [==============================] - 0s 1ms/step - loss: 0.6913 - accuracy: 0.5307\n",
      "Epoch 82/100\n"
     ]
    },
    {
     "name": "stdout",
     "output_type": "stream",
     "text": [
      "24/24 [==============================] - 0s 1ms/step - loss: 0.6913 - accuracy: 0.5307\n",
      "Epoch 83/100\n",
      "24/24 [==============================] - 0s 1ms/step - loss: 0.6913 - accuracy: 0.5307\n",
      "Epoch 84/100\n",
      "24/24 [==============================] - 0s 1ms/step - loss: 0.6913 - accuracy: 0.5307\n",
      "Epoch 85/100\n",
      "24/24 [==============================] - 0s 1ms/step - loss: 0.6913 - accuracy: 0.5307\n",
      "Epoch 86/100\n",
      "24/24 [==============================] - 0s 1ms/step - loss: 0.6913 - accuracy: 0.5307\n",
      "Epoch 87/100\n",
      "24/24 [==============================] - 0s 976us/step - loss: 0.6913 - accuracy: 0.5307\n",
      "Epoch 88/100\n",
      "24/24 [==============================] - 0s 1ms/step - loss: 0.6913 - accuracy: 0.5307\n",
      "Epoch 89/100\n",
      "24/24 [==============================] - 0s 1ms/step - loss: 0.6913 - accuracy: 0.5307\n",
      "Epoch 90/100\n",
      "24/24 [==============================] - 0s 1ms/step - loss: 0.6913 - accuracy: 0.5307\n",
      "Epoch 91/100\n",
      "24/24 [==============================] - 0s 1ms/step - loss: 0.6913 - accuracy: 0.5307\n",
      "Epoch 92/100\n",
      "24/24 [==============================] - ETA: 0s - loss: 0.6986 - accuracy: 0.46 - 0s 1ms/step - loss: 0.6913 - accuracy: 0.5307\n",
      "Epoch 93/100\n",
      "24/24 [==============================] - 0s 1ms/step - loss: 0.6913 - accuracy: 0.5307\n",
      "Epoch 94/100\n",
      "24/24 [==============================] - 0s 1ms/step - loss: 0.6913 - accuracy: 0.5307\n",
      "Epoch 95/100\n",
      "24/24 [==============================] - 0s 1ms/step - loss: 0.6913 - accuracy: 0.5307\n",
      "Epoch 96/100\n",
      "24/24 [==============================] - 0s 976us/step - loss: 0.6913 - accuracy: 0.5307\n",
      "Epoch 97/100\n",
      "24/24 [==============================] - 0s 1ms/step - loss: 0.6913 - accuracy: 0.5307\n",
      "Epoch 98/100\n",
      "24/24 [==============================] - 0s 1ms/step - loss: 0.6913 - accuracy: 0.5307\n",
      "Epoch 99/100\n",
      "24/24 [==============================] - 0s 1ms/step - loss: 0.6913 - accuracy: 0.5307\n",
      "Epoch 100/100\n",
      "24/24 [==============================] - 0s 1ms/step - loss: 0.6913 - accuracy: 0.5307\n"
     ]
    }
   ],
   "source": [
    "# Training the model with the nonlinear data\n",
    "model_moon = nn_model.fit(X_moon_train_scaled, y_moon_train, epochs=100, shuffle=True)"
   ]
  },
  {
   "cell_type": "code",
   "execution_count": 22,
   "metadata": {},
   "outputs": [
    {
     "data": {
      "text/plain": [
       "<AxesSubplot:>"
      ]
     },
     "execution_count": 22,
     "metadata": {},
     "output_type": "execute_result"
    },
    {
     "data": {
      "image/png": "[encoded data removed]",
      "text/plain": [
       "<Figure size 432x288 with 1 Axes>"
      ]
     },
     "metadata": {
      "needs_background": "light"
     },
     "output_type": "display_data"
    }
   ],
   "source": [
    "# Create a DataFrame containing training history\n",
    "history_df = pd.DataFrame(model_moon.history, index=range(1,len(model_moon.history[\"loss\"])+1))\n",
    "\n",
    "# Plot the loss\n",
    "history_df.plot(y=\"loss\")"
   ]
  },
  {
   "cell_type": "code",
   "execution_count": 23,
   "metadata": {},
   "outputs": [
    {
     "data": {
      "text/plain": [
       "<AxesSubplot:>"
      ]
     },
     "execution_count": 23,
     "metadata": {},
     "output_type": "execute_result"
    },
    {
     "data": {
      "image/png": "[encoded data removed]",
      "text/plain": [
       "<Figure size 432x288 with 1 Axes>"
      ]
     },
     "metadata": {
      "needs_background": "light"
     },
     "output_type": "display_data"
    }
   ],
   "source": [
    "# Plot the loss\n",
    "history_df.plot(y=\"accuracy\")"
   ]
  },
  {
   "cell_type": "code",
   "execution_count": 24,
   "metadata": {},
   "outputs": [],
   "source": [
    "# Generate our new Sequential model\n",
    "new_model = tf.keras.models.Sequential()"
   ]
  },
  {
   "cell_type": "code",
   "execution_count": 25,
   "metadata": {},
   "outputs": [],
   "source": [
    "# Add the input and hidden layer\n",
    "number_inputs = 2\n",
    "number_hidden_nodes = 6\n",
    "\n",
    "new_model.add(tf.keras.layers.Dense(units=number_hidden_nodes, activation=\"relu\", input_dim=number_inputs))\n",
    "\n",
    "# Add the output layer that uses a probability activation function\n",
    "new_model.add(tf.keras.layers.Dense(units=1, activation=\"sigmoid\"))"
   ]
  },
  {
   "cell_type": "code",
   "execution_count": 26,
   "metadata": {},
   "outputs": [
    {
     "name": "stdout",
     "output_type": "stream",
     "text": [
      "Epoch 1/100\n",
      "24/24 [==============================] - 0s 721us/step - loss: 0.5120 - accuracy: 0.8507\n",
      "Epoch 2/100\n",
      "24/24 [==============================] - 0s 764us/step - loss: 0.4956 - accuracy: 0.8386\n",
      "Epoch 3/100\n",
      "24/24 [==============================] - 0s 807us/step - loss: 0.4723 - accuracy: 0.8607\n",
      "Epoch 4/100\n",
      "24/24 [==============================] - 0s 721us/step - loss: 0.4513 - accuracy: 0.8527\n",
      "Epoch 5/100\n",
      "24/24 [==============================] - 0s 721us/step - loss: 0.4312 - accuracy: 0.8541\n",
      "Epoch 6/100\n",
      "24/24 [==============================] - 0s 806us/step - loss: 0.4105 - accuracy: 0.8712\n",
      "Epoch 7/100\n",
      "24/24 [==============================] - 0s 848us/step - loss: 0.4021 - accuracy: 0.8573\n",
      "Epoch 8/100\n",
      "24/24 [==============================] - 0s 806us/step - loss: 0.3896 - accuracy: 0.8616\n",
      "Epoch 9/100\n",
      "24/24 [==============================] - 0s 764us/step - loss: 0.3590 - accuracy: 0.8906\n",
      "Epoch 10/100\n",
      "24/24 [==============================] - 0s 806us/step - loss: 0.3519 - accuracy: 0.8872\n",
      "Epoch 11/100\n",
      "24/24 [==============================] - 0s 764us/step - loss: 0.3405 - accuracy: 0.8923\n",
      "Epoch 12/100\n",
      "24/24 [==============================] - 0s 849us/step - loss: 0.3377 - accuracy: 0.8837\n",
      "Epoch 13/100\n",
      "24/24 [==============================] - 0s 764us/step - loss: 0.3228 - accuracy: 0.8952\n",
      "Epoch 14/100\n",
      "24/24 [==============================] - 0s 934us/step - loss: 0.3282 - accuracy: 0.8729\n",
      "Epoch 15/100\n",
      "24/24 [==============================] - 0s 721us/step - loss: 0.3276 - accuracy: 0.8794\n",
      "Epoch 16/100\n",
      "24/24 [==============================] - 0s 764us/step - loss: 0.2918 - accuracy: 0.9026\n",
      "Epoch 17/100\n",
      "24/24 [==============================] - 0s 976us/step - loss: 0.3012 - accuracy: 0.8879\n",
      "Epoch 18/100\n",
      "24/24 [==============================] - 0s 891us/step - loss: 0.3051 - accuracy: 0.8835\n",
      "Epoch 19/100\n",
      "24/24 [==============================] - 0s 933us/step - loss: 0.2690 - accuracy: 0.9015\n",
      "Epoch 20/100\n",
      "24/24 [==============================] - 0s 849us/step - loss: 0.3190 - accuracy: 0.8631\n",
      "Epoch 21/100\n",
      "24/24 [==============================] - 0s 1ms/step - loss: 0.2848 - accuracy: 0.8897\n",
      "Epoch 22/100\n",
      "24/24 [==============================] - 0s 976us/step - loss: 0.2795 - accuracy: 0.8907\n",
      "Epoch 23/100\n",
      "24/24 [==============================] - 0s 849us/step - loss: 0.2664 - accuracy: 0.9034\n",
      "Epoch 24/100\n",
      "24/24 [==============================] - 0s 849us/step - loss: 0.2923 - accuracy: 0.8747\n",
      "Epoch 25/100\n",
      "24/24 [==============================] - 0s 721us/step - loss: 0.2734 - accuracy: 0.8897\n",
      "Epoch 26/100\n",
      "24/24 [==============================] - 0s 836us/step - loss: 0.2629 - accuracy: 0.9048\n",
      "Epoch 27/100\n",
      "24/24 [==============================] - 0s 891us/step - loss: 0.2497 - accuracy: 0.9053\n",
      "Epoch 28/100\n",
      "24/24 [==============================] - 0s 849us/step - loss: 0.2584 - accuracy: 0.8942\n",
      "Epoch 29/100\n",
      "24/24 [==============================] - 0s 806us/step - loss: 0.2464 - accuracy: 0.9041\n",
      "Epoch 30/100\n",
      "24/24 [==============================] - 0s 874us/step - loss: 0.2712 - accuracy: 0.8847\n",
      "Epoch 31/100\n",
      "24/24 [==============================] - 0s 1ms/step - loss: 0.2770 - accuracy: 0.8858\n",
      "Epoch 32/100\n",
      "24/24 [==============================] - 0s 806us/step - loss: 0.2511 - accuracy: 0.8992\n",
      "Epoch 33/100\n",
      "24/24 [==============================] - 0s 1ms/step - loss: 0.2998 - accuracy: 0.8725\n",
      "Epoch 34/100\n",
      "24/24 [==============================] - 0s 850us/step - loss: 0.2589 - accuracy: 0.8908\n",
      "Epoch 35/100\n",
      "24/24 [==============================] - 0s 806us/step - loss: 0.2330 - accuracy: 0.9079\n",
      "Epoch 36/100\n",
      "24/24 [==============================] - 0s 891us/step - loss: 0.2427 - accuracy: 0.9051\n",
      "Epoch 37/100\n",
      "24/24 [==============================] - 0s 806us/step - loss: 0.2608 - accuracy: 0.8950\n",
      "Epoch 38/100\n",
      "24/24 [==============================] - 0s 764us/step - loss: 0.2624 - accuracy: 0.8873\n",
      "Epoch 39/100\n",
      "24/24 [==============================] - 0s 806us/step - loss: 0.2278 - accuracy: 0.9111\n",
      "Epoch 40/100\n",
      "24/24 [==============================] - 0s 849us/step - loss: 0.2531 - accuracy: 0.8906\n",
      "Epoch 41/100\n",
      "24/24 [==============================] - 0s 849us/step - loss: 0.2695 - accuracy: 0.8793\n",
      "Epoch 42/100\n",
      "24/24 [==============================] - 0s 891us/step - loss: 0.2525 - accuracy: 0.8993\n",
      "Epoch 43/100\n",
      "24/24 [==============================] - 0s 891us/step - loss: 0.2645 - accuracy: 0.8917\n",
      "Epoch 44/100\n",
      "24/24 [==============================] - 0s 849us/step - loss: 0.2427 - accuracy: 0.9119\n",
      "Epoch 45/100\n",
      "24/24 [==============================] - 0s 849us/step - loss: 0.2370 - accuracy: 0.9006\n",
      "Epoch 46/100\n",
      "24/24 [==============================] - 0s 891us/step - loss: 0.2363 - accuracy: 0.9036\n",
      "Epoch 47/100\n",
      "24/24 [==============================] - 0s 1ms/step - loss: 0.2539 - accuracy: 0.8947\n",
      "Epoch 48/100\n",
      "24/24 [==============================] - 0s 806us/step - loss: 0.2326 - accuracy: 0.9075\n",
      "Epoch 49/100\n",
      "24/24 [==============================] - 0s 976us/step - loss: 0.2282 - accuracy: 0.9091\n",
      "Epoch 50/100\n",
      "24/24 [==============================] - 0s 849us/step - loss: 0.2469 - accuracy: 0.8924\n",
      "Epoch 51/100\n",
      "24/24 [==============================] - 0s 849us/step - loss: 0.2553 - accuracy: 0.8920\n",
      "Epoch 52/100\n",
      "24/24 [==============================] - 0s 891us/step - loss: 0.2394 - accuracy: 0.8940\n",
      "Epoch 53/100\n",
      "24/24 [==============================] - 0s 891us/step - loss: 0.2397 - accuracy: 0.9043\n",
      "Epoch 54/100\n",
      "24/24 [==============================] - 0s 934us/step - loss: 0.2355 - accuracy: 0.9035\n",
      "Epoch 55/100\n",
      "24/24 [==============================] - 0s 891us/step - loss: 0.2254 - accuracy: 0.9050\n",
      "Epoch 56/100\n",
      "24/24 [==============================] - 0s 764us/step - loss: 0.2715 - accuracy: 0.8817\n",
      "Epoch 57/100\n",
      "24/24 [==============================] - 0s 806us/step - loss: 0.2264 - accuracy: 0.9093\n",
      "Epoch 58/100\n",
      "24/24 [==============================] - 0s 806us/step - loss: 0.2180 - accuracy: 0.9161\n",
      "Epoch 59/100\n",
      "24/24 [==============================] - 0s 764us/step - loss: 0.2374 - accuracy: 0.9107\n",
      "Epoch 60/100\n",
      "24/24 [==============================] - 0s 849us/step - loss: 0.2201 - accuracy: 0.9178\n",
      "Epoch 61/100\n",
      "24/24 [==============================] - 0s 806us/step - loss: 0.2029 - accuracy: 0.9196\n",
      "Epoch 62/100\n",
      "24/24 [==============================] - 0s 764us/step - loss: 0.2314 - accuracy: 0.9019\n",
      "Epoch 63/100\n",
      "24/24 [==============================] - 0s 891us/step - loss: 0.2408 - accuracy: 0.9011\n",
      "Epoch 64/100\n",
      "24/24 [==============================] - 0s 849us/step - loss: 0.2422 - accuracy: 0.8914\n",
      "Epoch 65/100\n",
      "24/24 [==============================] - 0s 806us/step - loss: 0.2309 - accuracy: 0.9018\n",
      "Epoch 66/100\n",
      "24/24 [==============================] - 0s 849us/step - loss: 0.2201 - accuracy: 0.9057\n",
      "Epoch 67/100\n",
      "24/24 [==============================] - 0s 849us/step - loss: 0.2349 - accuracy: 0.8933\n",
      "Epoch 68/100\n",
      "24/24 [==============================] - 0s 849us/step - loss: 0.1944 - accuracy: 0.9200\n",
      "Epoch 69/100\n",
      "24/24 [==============================] - 0s 933us/step - loss: 0.2224 - accuracy: 0.9005\n",
      "Epoch 70/100\n",
      "24/24 [==============================] - 0s 891us/step - loss: 0.1974 - accuracy: 0.9169\n",
      "Epoch 71/100\n",
      "24/24 [==============================] - 0s 976us/step - loss: 0.2320 - accuracy: 0.8944\n",
      "Epoch 72/100\n",
      "24/24 [==============================] - 0s 891us/step - loss: 0.2534 - accuracy: 0.8841\n",
      "Epoch 73/100\n",
      "24/24 [==============================] - 0s 806us/step - loss: 0.2156 - accuracy: 0.9067\n",
      "Epoch 74/100\n",
      "24/24 [==============================] - 0s 721us/step - loss: 0.2300 - accuracy: 0.8917\n",
      "Epoch 75/100\n",
      "24/24 [==============================] - 0s 721us/step - loss: 0.2244 - accuracy: 0.8989\n",
      "Epoch 76/100\n",
      "24/24 [==============================] - 0s 806us/step - loss: 0.2176 - accuracy: 0.9091\n",
      "Epoch 77/100\n",
      "24/24 [==============================] - 0s 806us/step - loss: 0.2071 - accuracy: 0.9048\n",
      "Epoch 78/100\n",
      "24/24 [==============================] - 0s 764us/step - loss: 0.1956 - accuracy: 0.9169\n",
      "Epoch 79/100\n",
      "24/24 [==============================] - 0s 806us/step - loss: 0.2365 - accuracy: 0.8924\n",
      "Epoch 80/100\n",
      "24/24 [==============================] - 0s 806us/step - loss: 0.2009 - accuracy: 0.9192\n",
      "Epoch 81/100\n"
     ]
    },
    {
     "name": "stdout",
     "output_type": "stream",
     "text": [
      "24/24 [==============================] - 0s 806us/step - loss: 0.2239 - accuracy: 0.8998\n",
      "Epoch 82/100\n",
      "24/24 [==============================] - 0s 847us/step - loss: 0.2126 - accuracy: 0.9042\n",
      "Epoch 83/100\n",
      "24/24 [==============================] - 0s 721us/step - loss: 0.2020 - accuracy: 0.9138\n",
      "Epoch 84/100\n",
      "24/24 [==============================] - 0s 764us/step - loss: 0.2127 - accuracy: 0.9012\n",
      "Epoch 85/100\n",
      "24/24 [==============================] - 0s 848us/step - loss: 0.2288 - accuracy: 0.8994\n",
      "Epoch 86/100\n",
      "24/24 [==============================] - 0s 848us/step - loss: 0.2174 - accuracy: 0.8977\n",
      "Epoch 87/100\n",
      "24/24 [==============================] - 0s 891us/step - loss: 0.1971 - accuracy: 0.9112\n",
      "Epoch 88/100\n",
      "24/24 [==============================] - 0s 806us/step - loss: 0.1963 - accuracy: 0.9051\n",
      "Epoch 89/100\n",
      "24/24 [==============================] - 0s 806us/step - loss: 0.1927 - accuracy: 0.9124\n",
      "Epoch 90/100\n",
      "24/24 [==============================] - 0s 806us/step - loss: 0.2087 - accuracy: 0.8999\n",
      "Epoch 91/100\n",
      "24/24 [==============================] - 0s 849us/step - loss: 0.2159 - accuracy: 0.9052\n",
      "Epoch 92/100\n",
      "24/24 [==============================] - 0s 891us/step - loss: 0.2012 - accuracy: 0.9108\n",
      "Epoch 93/100\n",
      "24/24 [==============================] - 0s 849us/step - loss: 0.2151 - accuracy: 0.9086\n",
      "Epoch 94/100\n",
      "24/24 [==============================] - 0s 806us/step - loss: 0.2002 - accuracy: 0.9047\n",
      "Epoch 95/100\n",
      "24/24 [==============================] - 0s 764us/step - loss: 0.2200 - accuracy: 0.8997\n",
      "Epoch 96/100\n",
      "24/24 [==============================] - 0s 849us/step - loss: 0.2146 - accuracy: 0.9035\n",
      "Epoch 97/100\n",
      "24/24 [==============================] - 0s 806us/step - loss: 0.2007 - accuracy: 0.9135\n",
      "Epoch 98/100\n",
      "24/24 [==============================] - 0s 806us/step - loss: 0.2062 - accuracy: 0.9011\n",
      "Epoch 99/100\n",
      "24/24 [==============================] - 0s 849us/step - loss: 0.2199 - accuracy: 0.8975\n",
      "Epoch 100/100\n",
      "24/24 [==============================] - 0s 764us/step - loss: 0.2083 - accuracy: 0.8976\n"
     ]
    }
   ],
   "source": [
    "# Compile the Sequential model together and customize metrics\n",
    "new_model.compile(loss=\"binary_crossentropy\", optimizer=\"adam\", metrics=[\"accuracy\"])\n",
    "\n",
    "# Fit the model to the training data\n",
    "new_fit_model = new_model.fit(X_moon_train_scaled, y_moon_train, epochs=100, shuffle=True)"
   ]
  }
 ],
 "metadata": {
  "kernelspec": {
   "display_name": "mlenv",
   "language": "python",
   "name": "mlenv"
  },
  "language_info": {
   "codemirror_mode": {
    "name": "ipython",
    "version": 3
   },
   "file_extension": ".py",
   "mimetype": "text/x-python",
   "name": "python",
   "nbconvert_exporter": "python",
   "pygments_lexer": "ipython3",
   "version": "3.7.9"
  }
 },
 "nbformat": 4,
 "nbformat_minor": 4
}
